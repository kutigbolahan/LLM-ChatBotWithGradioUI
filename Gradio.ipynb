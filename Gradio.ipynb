{
 "cells": [
  {
   "cell_type": "code",
   "id": "initial_id",
   "metadata": {
    "collapsed": true,
    "ExecuteTime": {
     "end_time": "2025-09-07T15:23:47.813416Z",
     "start_time": "2025-09-07T15:22:59.562744Z"
    }
   },
   "source": [
    "import os\n",
    "import requests\n",
    "from bs4 import BeautifulSoup\n",
    "from typing import List\n",
    "from dotenv import load_dotenv\n",
    "from openai import OpenAI\n",
    "import google.generativeai\n",
    "import anthropic\n",
    "import gradio as gr"
   ],
   "outputs": [],
   "execution_count": 8
  },
  {
   "metadata": {
    "ExecuteTime": {
     "end_time": "2025-09-07T15:23:47.821734Z",
     "start_time": "2025-09-07T15:23:47.817466Z"
    }
   },
   "cell_type": "code",
   "source": "openai = OpenAI(base_url='http://localhost:11434/v1', api_key='ollama')",
   "id": "ad41bedc97da674d",
   "outputs": [],
   "execution_count": 9
  },
  {
   "metadata": {
    "ExecuteTime": {
     "end_time": "2025-09-07T15:24:47.093012Z",
     "start_time": "2025-09-07T15:24:47.090893Z"
    }
   },
   "cell_type": "code",
   "source": "system_message = 'You are a helpful assistant'",
   "id": "5f23650d1ec75837",
   "outputs": [],
   "execution_count": 10
  },
  {
   "metadata": {
    "ExecuteTime": {
     "end_time": "2025-09-07T15:32:23.436154Z",
     "start_time": "2025-09-07T15:32:23.432548Z"
    }
   },
   "cell_type": "code",
   "source": [
    "def message_llama(prompt):\n",
    "    message= [\n",
    "        {\"role\": \"system\", \"content\": system_message},\n",
    "        {\"role\": \"user\", \"content\":prompt}\n",
    "    ]\n",
    "    completion = openai.chat.completions.create(\n",
    "        model=\"llama3.2\", messages=message\n",
    "    )\n",
    "    return completion.choices[0].message.content"
   ],
   "id": "96eab2928ac38096",
   "outputs": [],
   "execution_count": 18
  },
  {
   "metadata": {
    "ExecuteTime": {
     "end_time": "2025-09-07T15:32:38.509459Z",
     "start_time": "2025-09-07T15:32:37.615041Z"
    }
   },
   "cell_type": "code",
   "source": "message_llama(\"what can you do?\")",
   "id": "34164d1970994351",
   "outputs": [
    {
     "data": {
      "text/plain": [
       "\"I can be used in a variety of ways, from helping you plan a vacation to creating art. I'm here to assist you in finding the help or information you need. My strengths include answering questions, generating text and images and even just chatting with you.\""
      ]
     },
     "execution_count": 20,
     "metadata": {},
     "output_type": "execute_result"
    }
   ],
   "execution_count": 20
  },
  {
   "metadata": {
    "ExecuteTime": {
     "end_time": "2025-09-07T15:35:36.301851Z",
     "start_time": "2025-09-07T15:35:36.299203Z"
    }
   },
   "cell_type": "code",
   "source": [
    "def shout(text):\n",
    "    return text.upper()"
   ],
   "id": "e0abe1ab48a05ba",
   "outputs": [],
   "execution_count": 21
  },
  {
   "metadata": {
    "ExecuteTime": {
     "end_time": "2025-09-07T15:35:46.417202Z",
     "start_time": "2025-09-07T15:35:46.414082Z"
    }
   },
   "cell_type": "code",
   "source": "shout(\"hello\")",
   "id": "9d23f8c093c2c9e1",
   "outputs": [
    {
     "data": {
      "text/plain": [
       "'HELLO'"
      ]
     },
     "execution_count": 22,
     "metadata": {},
     "output_type": "execute_result"
    }
   ],
   "execution_count": 22
  },
  {
   "metadata": {
    "ExecuteTime": {
     "end_time": "2025-09-07T15:42:45.044896Z",
     "start_time": "2025-09-07T15:42:27.355246Z"
    }
   },
   "cell_type": "code",
   "source": "gr.Interface(fn=shout, inputs=\"textbox\", outputs=\"textbox\", allow_flagging=\"never\").launch(share=True)",
   "id": "9f6dc894c9b9062c",
   "outputs": [
    {
     "name": "stdout",
     "output_type": "stream",
     "text": [
      "Running on local URL:  http://127.0.0.1:7862\n",
      "Running on public URL: https://c30122f457a696c7c5.gradio.live\n",
      "\n",
      "This share link expires in 72 hours. For free permanent hosting and GPU upgrades, run `gradio deploy` from Terminal to deploy to Spaces (https://huggingface.co/spaces)\n"
     ]
    },
    {
     "data": {
      "text/plain": [
       "<IPython.core.display.HTML object>"
      ],
      "text/html": [
       "<div><iframe src=\"https://c30122f457a696c7c5.gradio.live\" width=\"100%\" height=\"500\" allow=\"autoplay; camera; microphone; clipboard-read; clipboard-write;\" frameborder=\"0\" allowfullscreen></iframe></div>"
      ]
     },
     "metadata": {},
     "output_type": "display_data"
    },
    {
     "data": {
      "text/plain": []
     },
     "execution_count": 29,
     "metadata": {},
     "output_type": "execute_result"
    }
   ],
   "execution_count": 29
  },
  {
   "metadata": {
    "ExecuteTime": {
     "end_time": "2025-09-07T15:49:36.773990Z",
     "start_time": "2025-09-07T15:49:36.703246Z"
    }
   },
   "cell_type": "code",
   "source": "gr.Interface(fn=message_llama, inputs='textbox', outputs='textbox', allow_flagging='never').launch()",
   "id": "4b582662d55ada04",
   "outputs": [
    {
     "name": "stdout",
     "output_type": "stream",
     "text": [
      "Running on local URL:  http://127.0.0.1:7863\n",
      "\n",
      "To create a public link, set `share=True` in `launch()`.\n"
     ]
    },
    {
     "data": {
      "text/plain": [
       "<IPython.core.display.HTML object>"
      ],
      "text/html": [
       "<div><iframe src=\"http://127.0.0.1:7863/\" width=\"100%\" height=\"500\" allow=\"autoplay; camera; microphone; clipboard-read; clipboard-write;\" frameborder=\"0\" allowfullscreen></iframe></div>"
      ]
     },
     "metadata": {},
     "output_type": "display_data"
    },
    {
     "data": {
      "text/plain": []
     },
     "execution_count": 30,
     "metadata": {},
     "output_type": "execute_result"
    }
   ],
   "execution_count": 30
  },
  {
   "metadata": {
    "ExecuteTime": {
     "end_time": "2025-09-08T08:44:45.236460Z",
     "start_time": "2025-09-08T08:44:45.167828Z"
    }
   },
   "cell_type": "code",
   "source": [
    "system_message = 'you are a helpful assistant that responds in markdown'\n",
    "\n",
    "view = gr.Interface(fn=message_llama,\n",
    "                    inputs=[gr.Textbox(label=\"Your Message\")],\n",
    "                    outputs=[gr.Markdown(label=\"Response\")],\n",
    "                    allow_flagging='never'\n",
    "\n",
    "                    )\n",
    "view.launch()"
   ],
   "id": "795fbb5e504c3bda",
   "outputs": [
    {
     "name": "stdout",
     "output_type": "stream",
     "text": [
      "Running on local URL:  http://127.0.0.1:7865\n",
      "\n",
      "To create a public link, set `share=True` in `launch()`.\n"
     ]
    },
    {
     "data": {
      "text/plain": [
       "<IPython.core.display.HTML object>"
      ],
      "text/html": [
       "<div><iframe src=\"http://127.0.0.1:7865/\" width=\"100%\" height=\"500\" allow=\"autoplay; camera; microphone; clipboard-read; clipboard-write;\" frameborder=\"0\" allowfullscreen></iframe></div>"
      ]
     },
     "metadata": {},
     "output_type": "display_data"
    },
    {
     "data": {
      "text/plain": []
     },
     "execution_count": 32,
     "metadata": {},
     "output_type": "execute_result"
    }
   ],
   "execution_count": 32
  },
  {
   "metadata": {},
   "cell_type": "code",
   "outputs": [],
   "execution_count": null,
   "source": "",
   "id": "2f16bb95fb00b7c0"
  }
 ],
 "metadata": {
  "kernelspec": {
   "display_name": "Python 3",
   "language": "python",
   "name": "python3"
  },
  "language_info": {
   "codemirror_mode": {
    "name": "ipython",
    "version": 2
   },
   "file_extension": ".py",
   "mimetype": "text/x-python",
   "name": "python",
   "nbconvert_exporter": "python",
   "pygments_lexer": "ipython2",
   "version": "2.7.6"
  }
 },
 "nbformat": 4,
 "nbformat_minor": 5
}
