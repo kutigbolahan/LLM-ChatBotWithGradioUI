{
 "cells": [
  {
   "cell_type": "code",
   "id": "initial_id",
   "metadata": {
    "collapsed": true,
    "ExecuteTime": {
     "end_time": "2025-09-07T15:23:47.813416Z",
     "start_time": "2025-09-07T15:22:59.562744Z"
    }
   },
   "source": [
    "import os\n",
    "import requests\n",
    "from bs4 import BeautifulSoup\n",
    "from typing import List\n",
    "from dotenv import load_dotenv\n",
    "from openai import OpenAI\n",
    "import google.generativeai\n",
    "import anthropic\n",
    "import gradio as gr"
   ],
   "outputs": [],
   "execution_count": 8
  },
  {
   "metadata": {
    "ExecuteTime": {
     "end_time": "2025-09-08T09:51:26.721746Z",
     "start_time": "2025-09-08T09:51:26.713846Z"
    }
   },
   "cell_type": "code",
   "source": "openai = OpenAI(base_url='http://localhost:11434/v1', api_key='ollama')",
   "id": "ad41bedc97da674d",
   "outputs": [],
   "execution_count": 39
  },
  {
   "metadata": {
    "ExecuteTime": {
     "end_time": "2025-09-08T09:51:28.190494Z",
     "start_time": "2025-09-08T09:51:28.187901Z"
    }
   },
   "cell_type": "code",
   "source": "system_message = 'You are a helpful assistant'",
   "id": "5f23650d1ec75837",
   "outputs": [],
   "execution_count": 40
  },
  {
   "metadata": {
    "ExecuteTime": {
     "end_time": "2025-09-08T09:53:14.732369Z",
     "start_time": "2025-09-08T09:53:14.729810Z"
    }
   },
   "cell_type": "code",
   "source": [
    "def message_llama(prompt):\n",
    "    message= [\n",
    "        {\"role\": \"system\", \"content\": system_message},\n",
    "        {\"role\": \"user\", \"content\":prompt}\n",
    "    ]\n",
    "    completion = openai.chat.completions.create(\n",
    "        model=\"qwen3\", messages=message\n",
    "    )\n",
    "    return completion.choices[0].message.content"
   ],
   "id": "96eab2928ac38096",
   "outputs": [],
   "execution_count": 46
  },
  {
   "metadata": {
    "ExecuteTime": {
     "end_time": "2025-09-08T09:53:14.711714Z",
     "start_time": "2025-09-08T09:53:07.225376Z"
    }
   },
   "cell_type": "code",
   "source": "message_llama(\"what version of large language model are you?\")",
   "id": "34164d1970994351",
   "outputs": [
    {
     "data": {
      "text/plain": [
       "\"<think>\\nOkay, the user is asking what version of large language model I am. I need to make sure I answer accurately. First, I recall that I am Qwen, a large language model developed by Alibaba Cloud. My version is Qwen, which is part of the Qwen series. The user might be interested in knowing about my specific version or if there are different versions like Qwen, Qwen2, etc.\\n\\nI should confirm if they are referring to a specific version or just the general model. Also, since the user is using English, they might be from an English-speaking region or just prefer English. I should respond in English as usual. Let me check the available versions. The Qwen series includes multiple versions, such as Qwen, Qwen2, Qwen3, and others. But if they don't specify, I can mention the main version and offer to provide more details if needed. I should keep the answer concise but informative.\\n</think>\\n\\nI am Qwen, a large language model developed by Alibaba Cloud. There are multiple versions in the Qwen series, such as Qwen, Qwen2, Qwen3, etc. If you have specific questions about a particular version or need further information, feel free to ask! 😊\""
      ]
     },
     "execution_count": 45,
     "metadata": {},
     "output_type": "execute_result"
    }
   ],
   "execution_count": 45
  },
  {
   "metadata": {
    "ExecuteTime": {
     "end_time": "2025-09-08T09:53:20.988682Z",
     "start_time": "2025-09-08T09:53:20.986340Z"
    }
   },
   "cell_type": "code",
   "source": [
    "def shout(text):\n",
    "    return text.upper()"
   ],
   "id": "e0abe1ab48a05ba",
   "outputs": [],
   "execution_count": 48
  },
  {
   "metadata": {
    "ExecuteTime": {
     "end_time": "2025-09-08T09:53:23.771561Z",
     "start_time": "2025-09-08T09:53:23.768370Z"
    }
   },
   "cell_type": "code",
   "source": "shout(\"hello\")",
   "id": "9d23f8c093c2c9e1",
   "outputs": [
    {
     "data": {
      "text/plain": [
       "'HELLO'"
      ]
     },
     "execution_count": 49,
     "metadata": {},
     "output_type": "execute_result"
    }
   ],
   "execution_count": 49
  },
  {
   "metadata": {
    "ExecuteTime": {
     "end_time": "2025-09-08T09:53:30.163091Z",
     "start_time": "2025-09-08T09:53:25.864247Z"
    }
   },
   "cell_type": "code",
   "source": "gr.Interface(fn=shout, inputs=\"textbox\", outputs=\"textbox\", allow_flagging=\"never\").launch(share=True)",
   "id": "9f6dc894c9b9062c",
   "outputs": [
    {
     "name": "stdout",
     "output_type": "stream",
     "text": [
      "Running on local URL:  http://127.0.0.1:7866\n",
      "Running on public URL: https://f981d18dcb0e849bc2.gradio.live\n",
      "\n",
      "This share link expires in 72 hours. For free permanent hosting and GPU upgrades, run `gradio deploy` from Terminal to deploy to Spaces (https://huggingface.co/spaces)\n"
     ]
    },
    {
     "data": {
      "text/plain": [
       "<IPython.core.display.HTML object>"
      ],
      "text/html": [
       "<div><iframe src=\"https://f981d18dcb0e849bc2.gradio.live\" width=\"100%\" height=\"500\" allow=\"autoplay; camera; microphone; clipboard-read; clipboard-write;\" frameborder=\"0\" allowfullscreen></iframe></div>"
      ]
     },
     "metadata": {},
     "output_type": "display_data"
    },
    {
     "data": {
      "text/plain": []
     },
     "execution_count": 50,
     "metadata": {},
     "output_type": "execute_result"
    }
   ],
   "execution_count": 50
  },
  {
   "metadata": {
    "ExecuteTime": {
     "end_time": "2025-09-08T09:53:39.166124Z",
     "start_time": "2025-09-08T09:53:39.104403Z"
    }
   },
   "cell_type": "code",
   "source": "gr.Interface(fn=message_llama, inputs='textbox', outputs='textbox', allow_flagging='never').launch()",
   "id": "4b582662d55ada04",
   "outputs": [
    {
     "name": "stdout",
     "output_type": "stream",
     "text": [
      "Running on local URL:  http://127.0.0.1:7867\n",
      "\n",
      "To create a public link, set `share=True` in `launch()`.\n"
     ]
    },
    {
     "data": {
      "text/plain": [
       "<IPython.core.display.HTML object>"
      ],
      "text/html": [
       "<div><iframe src=\"http://127.0.0.1:7867/\" width=\"100%\" height=\"500\" allow=\"autoplay; camera; microphone; clipboard-read; clipboard-write;\" frameborder=\"0\" allowfullscreen></iframe></div>"
      ]
     },
     "metadata": {},
     "output_type": "display_data"
    },
    {
     "data": {
      "text/plain": []
     },
     "execution_count": 51,
     "metadata": {},
     "output_type": "execute_result"
    }
   ],
   "execution_count": 51
  },
  {
   "metadata": {
    "ExecuteTime": {
     "end_time": "2025-09-08T09:54:56.726106Z",
     "start_time": "2025-09-08T09:54:56.660781Z"
    }
   },
   "cell_type": "code",
   "source": [
    "system_message = 'you are a helpful assistant that responds in markdown'\n",
    "\n",
    "view = gr.Interface(fn=message_llama,\n",
    "                    inputs=[gr.Textbox(label=\"Your Message\")],\n",
    "                    outputs=[gr.Markdown(label=\"Response\")],\n",
    "                    allow_flagging='never'\n",
    "\n",
    "                    )\n",
    "view.launch()"
   ],
   "id": "795fbb5e504c3bda",
   "outputs": [
    {
     "name": "stdout",
     "output_type": "stream",
     "text": [
      "Running on local URL:  http://127.0.0.1:7868\n",
      "\n",
      "To create a public link, set `share=True` in `launch()`.\n"
     ]
    },
    {
     "data": {
      "text/plain": [
       "<IPython.core.display.HTML object>"
      ],
      "text/html": [
       "<div><iframe src=\"http://127.0.0.1:7868/\" width=\"100%\" height=\"500\" allow=\"autoplay; camera; microphone; clipboard-read; clipboard-write;\" frameborder=\"0\" allowfullscreen></iframe></div>"
      ]
     },
     "metadata": {},
     "output_type": "display_data"
    },
    {
     "data": {
      "text/plain": []
     },
     "execution_count": 52,
     "metadata": {},
     "output_type": "execute_result"
    }
   ],
   "execution_count": 52
  },
  {
   "metadata": {
    "ExecuteTime": {
     "end_time": "2025-09-08T10:04:11.043109Z",
     "start_time": "2025-09-08T10:04:11.039699Z"
    }
   },
   "cell_type": "code",
   "source": [
    "def stream_ollama (prompt):\n",
    "    message=[\n",
    "        {\"role\":\"system\", \"content\": system_message},\n",
    "        {\"role\": \"user\", \"content\":prompt}\n",
    "    ]\n",
    "    stream = openai.chat.completions.create(\n",
    "        model=\"qwen3\", messages=message,\n",
    "        stream=True\n",
    "    )\n",
    "    result = \"\"\n",
    "    for chunk in stream:\n",
    "        result += chunk.choices[0].delta.content or \"\"\n",
    "        yield  result\n",
    "\n"
   ],
   "id": "2f16bb95fb00b7c0",
   "outputs": [],
   "execution_count": 53
  },
  {
   "metadata": {
    "ExecuteTime": {
     "end_time": "2025-09-08T10:08:33.615627Z",
     "start_time": "2025-09-08T10:08:33.548317Z"
    }
   },
   "cell_type": "code",
   "source": [
    "view = gr.Interface(\n",
    "    fn=stream_ollama,\n",
    "                   inputs=[gr.Textbox(label=\"Your Message:\")],\n",
    "                   outputs=[gr.Markdown(label=\"Response:\")],\n",
    "                   allow_flagging=\"never\")\n",
    "view.launch()"
   ],
   "id": "34bb12c13d4c7383",
   "outputs": [
    {
     "name": "stdout",
     "output_type": "stream",
     "text": [
      "Running on local URL:  http://127.0.0.1:7869\n",
      "\n",
      "To create a public link, set `share=True` in `launch()`.\n"
     ]
    },
    {
     "data": {
      "text/plain": [
       "<IPython.core.display.HTML object>"
      ],
      "text/html": [
       "<div><iframe src=\"http://127.0.0.1:7869/\" width=\"100%\" height=\"500\" allow=\"autoplay; camera; microphone; clipboard-read; clipboard-write;\" frameborder=\"0\" allowfullscreen></iframe></div>"
      ]
     },
     "metadata": {},
     "output_type": "display_data"
    },
    {
     "data": {
      "text/plain": []
     },
     "execution_count": 55,
     "metadata": {},
     "output_type": "execute_result"
    }
   ],
   "execution_count": 55
  },
  {
   "metadata": {
    "ExecuteTime": {
     "end_time": "2025-09-08T10:23:56.867402Z",
     "start_time": "2025-09-08T10:23:56.864276Z"
    }
   },
   "cell_type": "code",
   "source": [
    "def stream_ollama32 (text):\n",
    "    message=[\n",
    "        {\"role\":\"system\", \"content\": system_message},\n",
    "        {\"role\": \"user\", \"content\":text}\n",
    "    ]\n",
    "    stream = openai.chat.completions.create(\n",
    "        model=\"llama3.2\", messages=message,\n",
    "        stream=True\n",
    "    )\n",
    "    result = \"\"\n",
    "    for chunk in stream:\n",
    "        result += chunk.choices[0].delta.content or \"\"\n",
    "        yield  result\n"
   ],
   "id": "23bf17039cf7d4c4",
   "outputs": [],
   "execution_count": 56
  },
  {
   "metadata": {
    "ExecuteTime": {
     "end_time": "2025-09-08T10:31:57.825647Z",
     "start_time": "2025-09-08T10:31:57.822548Z"
    }
   },
   "cell_type": "code",
   "source": [
    "def stream_model(prompt,model):\n",
    "    if model==\"qwen3\":\n",
    "        result = stream_ollama(prompt)\n",
    "    elif model==\"llama3.2\":\n",
    "       result = stream_ollama32(prompt)\n",
    "    else:\n",
    "       raise ValueError(\"Unknown model\")\n",
    "    for chunk in result:\n",
    "            yield chunk\n"
   ],
   "id": "d70080453717fc06",
   "outputs": [],
   "execution_count": 57
  },
  {
   "metadata": {
    "ExecuteTime": {
     "end_time": "2025-09-08T10:35:13.349442Z",
     "start_time": "2025-09-08T10:35:13.282841Z"
    }
   },
   "cell_type": "code",
   "source": [
    "view = gr.Interface(fn=stream_model,\n",
    "                    inputs=[gr.Textbox(label=\"Your Message:\"),\n",
    "                    gr.Dropdown([\"qwen3\",\"llama3.2\"], label=\"select Model\")],\n",
    "                    outputs=[gr.Markdown(label=\"Response:\")], allow_flagging=\"never\"\n",
    "                    )\n",
    "view.launch()"
   ],
   "id": "75d08558d85c6add",
   "outputs": [
    {
     "name": "stdout",
     "output_type": "stream",
     "text": [
      "Running on local URL:  http://127.0.0.1:7870\n",
      "\n",
      "To create a public link, set `share=True` in `launch()`.\n"
     ]
    },
    {
     "data": {
      "text/plain": [
       "<IPython.core.display.HTML object>"
      ],
      "text/html": [
       "<div><iframe src=\"http://127.0.0.1:7870/\" width=\"100%\" height=\"500\" allow=\"autoplay; camera; microphone; clipboard-read; clipboard-write;\" frameborder=\"0\" allowfullscreen></iframe></div>"
      ]
     },
     "metadata": {},
     "output_type": "display_data"
    },
    {
     "data": {
      "text/plain": []
     },
     "execution_count": 58,
     "metadata": {},
     "output_type": "execute_result"
    }
   ],
   "execution_count": 58
  },
  {
   "metadata": {},
   "cell_type": "code",
   "outputs": [],
   "execution_count": null,
   "source": "",
   "id": "f47fde5e476d8960"
  }
 ],
 "metadata": {
  "kernelspec": {
   "display_name": "Python 3",
   "language": "python",
   "name": "python3"
  },
  "language_info": {
   "codemirror_mode": {
    "name": "ipython",
    "version": 2
   },
   "file_extension": ".py",
   "mimetype": "text/x-python",
   "name": "python",
   "nbconvert_exporter": "python",
   "pygments_lexer": "ipython2",
   "version": "2.7.6"
  }
 },
 "nbformat": 4,
 "nbformat_minor": 5
}
